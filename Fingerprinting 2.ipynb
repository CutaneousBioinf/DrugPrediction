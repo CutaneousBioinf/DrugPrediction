{
 "cells": [
  {
   "cell_type": "code",
   "execution_count": 17,
   "id": "32920e00",
   "metadata": {},
   "outputs": [
    {
     "name": "stdout",
     "output_type": "stream",
     "text": [
      "         Similarity Smiles Value                  0\n",
      "0.047101        NaN          NaN  CC1=CC(=O)C=CC1=O\n"
     ]
    },
    {
     "name": "stderr",
     "output_type": "stream",
     "text": [
      "<ipython-input-17-6af1c49c0f50>:11: DeprecationWarning: The default dtype for empty Series will be 'object' instead of 'float64' in a future version. Specify a dtype explicitly to silence this warning.\n",
      "  ser = pd.Series()\n"
     ]
    }
   ],
   "source": [
    "#GetAtomFingerprint using Tanimoto Similarity \n",
    "from rdkit import Chem\n",
    "from rdkit.Chem import PandasTools\n",
    "import gzip\n",
    "GZipFile = \"NCI-Open_2012-05-01.sdf.gz\"\n",
    "inf = gzip.open(GZipFile)\n",
    "from rdkit import DataStructs\n",
    "import pandas as pd\n",
    "from rdkit.Chem.AtomPairs import Pairs\n",
    "dfS = pd.DataFrame(columns = ['Similarity','Smiles Value'])\n",
    "ser = pd.Series()\n",
    "inf = gzip.open(GZipFile)\n",
    "with Chem.MultithreadedSDMolSupplier('DB08895.sdf') as sdSupl:\n",
    "                for molSdf in sdSupl:\n",
    "                    if molSdf is not None:\n",
    "                        Chem.rdmolops.AddHs(molSdf)\n",
    "                        fp2 = Pairs.rdMolDescriptors.GetAtomPairFingerprint(molSdf)\n",
    "                        \n",
    "with Chem.ForwardSDMolSupplier(inf) as gzsuppl:\n",
    "    for mol in gzsuppl:\n",
    "        if mol is not None:\n",
    "            fp1 = Pairs.rdMolDescriptors.GetAtomPairFingerprint(mol)\n",
    "            fpSim = DataStructs.cDataStructs.TanimotoSimilarity(fp1, fp2)\n",
    "            ser = pd.Series(Chem.MolToSmiles(mol),[fpSim])\n",
    "            dfS = dfS.append(ser.to_frame())\n",
    "            print (dfS)\n",
    "            break\n",
    "            "
   ]
  },
  {
   "cell_type": "code",
   "execution_count": 32,
   "id": "3fad6b2d",
   "metadata": {},
   "outputs": [
    {
     "name": "stdout",
     "output_type": "stream",
     "text": [
      "         Similarity Smiles Value                  0\n",
      "0.084821        NaN          NaN  CC1=CC(=O)C=CC1=O\n"
     ]
    },
    {
     "name": "stderr",
     "output_type": "stream",
     "text": [
      "<ipython-input-32-f282f99a33fc>:11: DeprecationWarning: The default dtype for empty Series will be 'object' instead of 'float64' in a future version. Specify a dtype explicitly to silence this warning.\n",
      "  ser = pd.Series()\n"
     ]
    }
   ],
   "source": [
    "#HashedAtomFingerprint using Fingerprint Similarity\n",
    "from rdkit import Chem\n",
    "from rdkit.Chem import PandasTools\n",
    "import gzip\n",
    "GZipFile = \"NCI-Open_2012-05-01.sdf.gz\"\n",
    "inf = gzip.open(GZipFile)\n",
    "from rdkit import DataStructs\n",
    "import pandas as pd\n",
    "from rdkit.Chem.AtomPairs import Pairs\n",
    "dfS = pd.DataFrame(columns = ['Similarity','Smiles Value'])\n",
    "ser = pd.Series()\n",
    "inf = gzip.open(GZipFile)\n",
    "with Chem.MultithreadedSDMolSupplier('DB08895.sdf') as sdSupl:\n",
    "                for molSdf in sdSupl:\n",
    "                    if molSdf is not None:\n",
    "                        Chem.rdmolops.AddHs(molSdf)\n",
    "                        fp3 = Chem.rdMolDescriptors.GetHashedAtomPairFingerprintAsBitVect(molSdf) # works\n",
    "with Chem.ForwardSDMolSupplier(inf) as gzsuppl:\n",
    "    for mol in gzsuppl:\n",
    "        if mol is not None:\n",
    "            fp4 = Chem.rdMolDescriptors.GetHashedAtomPairFingerprintAsBitVect(mol) # works \n",
    "            fpSim = [(DataStructs.FingerprintSimilarity(fp4, fp3))]\n",
    "            ser = pd.Series(Chem.MolToSmiles(mol),fpSim)\n",
    "            dfS = dfS.append(ser.to_frame())\n",
    "            print (dfS)\n",
    "            break"
   ]
  },
  {
   "cell_type": "code",
   "execution_count": 43,
   "id": "dbc23adb",
   "metadata": {},
   "outputs": [
    {
     "name": "stdout",
     "output_type": "stream",
     "text": [
      "         Similarity Smiles Value                  0\n",
      "0.039768        NaN          NaN  CC1=CC(=O)C=CC1=O\n"
     ]
    },
    {
     "name": "stderr",
     "output_type": "stream",
     "text": [
      "<ipython-input-43-f0357dc4d1f4>:12: DeprecationWarning: The default dtype for empty Series will be 'object' instead of 'float64' in a future version. Specify a dtype explicitly to silence this warning.\n",
      "  ser = pd.Series()\n"
     ]
    }
   ],
   "source": [
    "#AvalonFingerprint using Tanimoto Similarity\n",
    "from rdkit import Chem\n",
    "from rdkit.Chem import PandasTools\n",
    "from rdkit.Avalon import pyAvalonTools as pyAv\n",
    "import gzip\n",
    "GZipFile = \"NCI-Open_2012-05-01.sdf.gz\"\n",
    "inf = gzip.open(GZipFile)\n",
    "from rdkit import DataStructs\n",
    "import pandas as pd\n",
    "from rdkit.Chem.AtomPairs import Pairs\n",
    "dfS = pd.DataFrame(columns = ['Similarity','Smiles Value'])\n",
    "ser = pd.Series()\n",
    "with Chem.MultithreadedSDMolSupplier('DB08895.sdf') as sdSupl:\n",
    "    for molSdf in sdSupl:\n",
    "         if molSdf is not None:\n",
    "            Chem.rdmolops.AddHs(molSdf)\n",
    "            fp3 = pyAv.GetAvalonCountFP(molSdf)\n",
    "with Chem.ForwardSDMolSupplier(inf) as gzsuppl:\n",
    "    for mol in gzsuppl:\n",
    "        if mol is not None:\n",
    "            fp4 = pyAv.GetAvalonCountFP(mol)\n",
    "            fpSim = DataStructs.cDataStructs.TanimotoSimilarity(fp3, fp4)\n",
    "            ser = pd.Series(Chem.MolToSmiles(mol),[fpSim])\n",
    "            dfS = dfS.append(ser.to_frame())\n",
    "            print (dfS)\n",
    "            break"
   ]
  },
  {
   "cell_type": "code",
   "execution_count": 50,
   "id": "8db18e6a",
   "metadata": {},
   "outputs": [
    {
     "name": "stdout",
     "output_type": "stream",
     "text": [
      "         Similarity Smiles Value                  0\n",
      "0.051724        NaN          NaN  CC1=CC(=O)C=CC1=O\n"
     ]
    },
    {
     "name": "stderr",
     "output_type": "stream",
     "text": [
      "<ipython-input-50-470bb1458ea8>:11: DeprecationWarning: The default dtype for empty Series will be 'object' instead of 'float64' in a future version. Specify a dtype explicitly to silence this warning.\n",
      "  ser = pd.Series()\n"
     ]
    }
   ],
   "source": [
    "#HashedTopologicalTorsionFingerprintusing Tanimoto Similarity\n",
    "from rdkit import Chem\n",
    "from rdkit.Chem import PandasTools\n",
    "import gzip\n",
    "GZipFile = \"NCI-Open_2012-05-01.sdf.gz\"\n",
    "inf = gzip.open(GZipFile)\n",
    "from rdkit import DataStructs\n",
    "import pandas as pd\n",
    "from rdkit.Chem.AtomPairs import Pairs\n",
    "dfS = pd.DataFrame(columns = ['Similarity','Smiles Value'])\n",
    "ser = pd.Series()\n",
    "with Chem.MultithreadedSDMolSupplier('DB08895.sdf') as sdSupl:\n",
    "    for molSdf in sdSupl:\n",
    "         if molSdf is not None:\n",
    "            Chem.rdmolops.AddHs(molSdf)\n",
    "            fp3 = Chem.rdMolDescriptors.GetHashedTopologicalTorsionFingerprint(molSdf)\n",
    "with Chem.ForwardSDMolSupplier(inf) as gzsuppl:\n",
    "    for mol in gzsuppl:\n",
    "        if mol is not None:\n",
    "            fp4 = Chem.rdMolDescriptors.GetHashedTopologicalTorsionFingerprint(mol)\n",
    "            fpSim = DataStructs.cDataStructs.TanimotoSimilarity(fp3, fp4)\n",
    "            ser = pd.Series(Chem.MolToSmiles(mol),[fpSim])\n",
    "            dfS = dfS.append(ser.to_frame())\n",
    "            print (dfS)\n",
    "            break"
   ]
  },
  {
   "cell_type": "code",
   "execution_count": 52,
   "id": "8e14981c",
   "metadata": {},
   "outputs": [
    {
     "name": "stdout",
     "output_type": "stream",
     "text": [
      "         Similarity Smiles Value                  0\n",
      "0.096774        NaN          NaN  CC1=CC(=O)C=CC1=O\n"
     ]
    },
    {
     "name": "stderr",
     "output_type": "stream",
     "text": [
      "<ipython-input-52-3ad00a2613a1>:11: DeprecationWarning: The default dtype for empty Series will be 'object' instead of 'float64' in a future version. Specify a dtype explicitly to silence this warning.\n",
      "  ser = pd.Series()\n"
     ]
    }
   ],
   "source": [
    "#MACCSKeysFingerprint using Tanimoto Similarity\n",
    "from rdkit import Chem\n",
    "from rdkit.Chem import PandasTools\n",
    "import gzip\n",
    "GZipFile = \"NCI-Open_2012-05-01.sdf.gz\"\n",
    "inf = gzip.open(GZipFile)\n",
    "from rdkit import DataStructs\n",
    "import pandas as pd\n",
    "from rdkit.Chem.AtomPairs import Pairs\n",
    "dfS = pd.DataFrame(columns = ['Similarity','Smiles Value'])\n",
    "ser = pd.Series()\n",
    "with Chem.MultithreadedSDMolSupplier('DB08895.sdf') as sdSupl:\n",
    "    for molSdf in sdSupl:\n",
    "         if molSdf is not None:\n",
    "            Chem.rdmolops.AddHs(molSdf)\n",
    "            fp3 = Chem.rdMolDescriptors.GetMACCSKeysFingerprint(molSdf)\n",
    "with Chem.ForwardSDMolSupplier(inf) as gzsuppl:\n",
    "    for mol in gzsuppl:\n",
    "        if mol is not None:\n",
    "            fp4 = Chem.rdMolDescriptors.GetMACCSKeysFingerprint(mol)\n",
    "            fpSim = DataStructs.cDataStructs.TanimotoSimilarity(fp3, fp4)\n",
    "            ser = pd.Series(Chem.MolToSmiles(mol),[fpSim])\n",
    "            dfS = dfS.append(ser.to_frame())\n",
    "            print (dfS)\n",
    "            break"
   ]
  }
 ],
 "metadata": {
  "kernelspec": {
   "display_name": "Python 3",
   "language": "python",
   "name": "python3"
  },
  "language_info": {
   "codemirror_mode": {
    "name": "ipython",
    "version": 3
   },
   "file_extension": ".py",
   "mimetype": "text/x-python",
   "name": "python",
   "nbconvert_exporter": "python",
   "pygments_lexer": "ipython3",
   "version": "3.8.8"
  }
 },
 "nbformat": 4,
 "nbformat_minor": 5
}
