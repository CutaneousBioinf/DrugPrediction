{
 "cells": [
  {
   "cell_type": "code",
   "execution_count": 1,
   "id": "e818c130",
   "metadata": {},
   "outputs": [],
   "source": [
    "from rdkit import Chem\n",
    "from rdkit.Chem import PandasTools\n",
    "from rdkit import DataStructs\n",
    "import pandas as pd\n",
    "import pubchempy as pcp\n",
    "#creating an empty dataframe\n",
    "df = pd.DataFrame()\n",
    "# reading from the excel file \n",
    "xldf = pd.ExcelFile('/Users/ananyakasi/Documents/UROP first 20 similarities.xlsx').parse('Sheet1')\n",
    "for i in range(len(xldf)):\n",
    "    molVal = xldf.Smiles_value[i]\n",
    "    lstProp = pcp.get_properties(['MolecularFormula','MolecularWeight','XLogP', 'HBondDonorCount', 'HBondAcceptorCount','AtomStereoCount','RotatableBondCount', 'TPSA', 'HeavyAtomCount', 'Charge'],molVal ,'smiles')\n",
    "    df = df.append(lstProp, ignore_index = True)\n",
    "df.to_excel('/Users/ananyakasi/Documents/PropertiesMoleculesFinal.xlsx')"
   ]
  },
  {
   "cell_type": "code",
   "execution_count": null,
   "id": "99dfde04",
   "metadata": {},
   "outputs": [],
   "source": []
  }
 ],
 "metadata": {
  "kernelspec": {
   "display_name": "Python 3",
   "language": "python",
   "name": "python3"
  },
  "language_info": {
   "codemirror_mode": {
    "name": "ipython",
    "version": 3
   },
   "file_extension": ".py",
   "mimetype": "text/x-python",
   "name": "python",
   "nbconvert_exporter": "python",
   "pygments_lexer": "ipython3",
   "version": "3.8.8"
  }
 },
 "nbformat": 4,
 "nbformat_minor": 5
}
