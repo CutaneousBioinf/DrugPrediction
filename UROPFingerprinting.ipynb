{
 "cells": [
  {
   "cell_type": "code",
   "execution_count": null,
   "id": "e5fb326e",
   "metadata": {},
   "outputs": [],
   "source": [
    "from rdkit import Chem\n",
    "from rdkit.Chem import PandasTools\n",
    "import gzip\n",
    "from rdkit import DataStructs\n",
    "import pandas as pd"
   ]
  },
  {
   "cell_type": "code",
   "execution_count": null,
   "id": "55236c27",
   "metadata": {},
   "outputs": [],
   "source": [
    "GZipFile = \"NCI-Open_2012-05-01.sdf.gz\""
   ]
  },
  {
   "cell_type": "code",
   "execution_count": null,
   "id": "f8688e91",
   "metadata": {},
   "outputs": [],
   "source": [
    "inf = gzip.open(GZipFile)"
   ]
  },
  {
   "cell_type": "code",
   "execution_count": null,
   "id": "7c633cd1",
   "metadata": {},
   "outputs": [],
   "source": [
    "#only drug molecule with H2\n",
    "dfS = pd.DataFrame(columns = ['Similarity','Smiles Value'])\n",
    "ser = pd.Series()\n",
    "inf = gzip.open(GZipFile)\n",
    "with Chem.MultithreadedSDMolSupplier('DB08895.sdf') as sdSupl:\n",
    "                for molSdf in sdSupl:\n",
    "                    if molSdf is not None:\n",
    "                        Chem.rdmolops.AddHs(molSdf)\n",
    "                        fp2 = Chem.rdMolDescriptors.GetMorganFingerprintAsBitVect(molSdf, 2, 2048)\n",
    "with Chem.ForwardSDMolSupplier(inf) as gzsuppl:\n",
    "    for mol in gzsuppl:\n",
    "        if mol is not None:\n",
    "            fp1 = Chem.rdMolDescriptors.GetMorganFingerprintAsBitVect(mol, 2, 2048)\n",
    "            fpSim = [(DataStructs.FingerprintSimilarity(fp1, fp2))]\n",
    "            ser = pd.Series(Chem.MolToSmiles(mol),fpSim)\n",
    "            dfS = dfS.append(ser.to_frame())"
   ]
  },
  {
   "cell_type": "code",
   "execution_count": null,
   "id": "397802c4",
   "metadata": {},
   "outputs": [],
   "source": [
    "dfS.to_excel(\"FinalSheetFinalV2.xlsx\")"
   ]
  },
  {
   "cell_type": "code",
   "execution_count": null,
   "id": "8c3a2f41",
   "metadata": {},
   "outputs": [],
   "source": [
    "#Both with H2 \n",
    "dfWH2 = pd.DataFrame(columns = ['Similarity','Smiles Value'])\n",
    "serWH2 = pd.Series()\n",
    "inf = gzip.open(GZipFile)\n",
    "with Chem.MultithreadedSDMolSupplier('DB08895.sdf') as sdSupl:\n",
    "                for molSdf in sdSupl:\n",
    "                    if molSdf is not None:\n",
    "                        Chem.rdmolops.AddHs(molSdf)\n",
    "                        fp2 = Chem.rdMolDescriptors.GetMorganFingerprintAsBitVect(molSdf, 2, 2048)\n",
    "with Chem.ForwardSDMolSupplier(inf) as gzsuppl:\n",
    "    for mol in gzsuppl:\n",
    "        if mol is not None:\n",
    "            Chem.rdmolops.AddHs(mol)\n",
    "            fp1 = Chem.rdMolDescriptors.GetMorganFingerprintAsBitVect(mol, 2, 2048)\n",
    "            fpSim = [(DataStructs.FingerprintSimilarity(fp1, fp2))]\n",
    "            serWH2 = pd.Series(Chem.MolToSmiles(mol),fpSim)\n",
    "            dfWH2 = dfWH2.append(serWH2.to_frame())"
   ]
  },
  {
   "cell_type": "code",
   "execution_count": null,
   "id": "8b3a08bf",
   "metadata": {},
   "outputs": [],
   "source": [
    "dfWH2.to_excel(\"WithH2FinalV2Final.xlsx\")"
   ]
  },
  {
   "cell_type": "code",
   "execution_count": null,
   "id": "9ea36e50",
   "metadata": {},
   "outputs": [],
   "source": [
    "#Both without H2\n",
    "\n",
    "dfH2 = pd.DataFrame(columns = ['Similarity','Smiles Value'])\n",
    "serH2 = pd.Series()\n",
    "inf = gzip.open(GZipFile)\n",
    "with Chem.MultithreadedSDMolSupplier('DB08895.sdf') as sdSupl:\n",
    "                for molSdf in sdSupl:\n",
    "                    if molSdf is not None:\n",
    "                        fp2 = Chem.rdMolDescriptors.GetMorganFingerprintAsBitVect(molSdf, 2, 2048)\n",
    "with Chem.ForwardSDMolSupplier(inf) as gzsuppl:\n",
    "    for mol in gzsuppl:\n",
    "        if mol is not None:\n",
    "            fp1 = Chem.rdMolDescriptors.GetMorganFingerprintAsBitVect(mol, 2, 2048)\n",
    "            fpSim = [(DataStructs.FingerprintSimilarity(fp1, fp2))]\n",
    "            serH2 = pd.Series(Chem.MolToSmiles(mol),fpSim)\n",
    "            dfH2 = dfS.append(serH2.to_frame())"
   ]
  },
  {
   "cell_type": "code",
   "execution_count": null,
   "id": "39453047",
   "metadata": {},
   "outputs": [],
   "source": [
    "dfH2.to_excel(\"WithoutH2FinalV2Final.xlsx\")"
   ]
  }
 ],
 "metadata": {
  "kernelspec": {
   "display_name": "Python 3",
   "language": "python",
   "name": "python3"
  },
  "language_info": {
   "codemirror_mode": {
    "name": "ipython",
    "version": 3
   },
   "file_extension": ".py",
   "mimetype": "text/x-python",
   "name": "python",
   "nbconvert_exporter": "python",
   "pygments_lexer": "ipython3",
   "version": "3.8.8"
  }
 },
 "nbformat": 4,
 "nbformat_minor": 5
}
